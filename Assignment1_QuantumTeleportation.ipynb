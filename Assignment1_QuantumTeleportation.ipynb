{
 "cells": [
  {
   "cell_type": "code",
   "execution_count": 1,
   "id": "f6c3c8ba",
   "metadata": {},
   "outputs": [],
   "source": [
    "from qiskit import QuantumCircuit\n",
    "qc = QuantumCircuit(3,3)"
   ]
  },
  {
   "cell_type": "code",
   "execution_count": 2,
   "id": "59b0f0f4",
   "metadata": {},
   "outputs": [
    {
     "data": {
      "text/html": [
       "<pre style=\"word-wrap: normal;white-space: pre;background: #fff0;line-height: 1.1;font-family: &quot;Courier New&quot;,Courier,monospace\">     \n",
       "q_0: \n",
       "     \n",
       "q_1: \n",
       "     \n",
       "q_2: \n",
       "     \n",
       "c: 3/\n",
       "     </pre>"
      ],
      "text/plain": [
       "     \n",
       "q_0: \n",
       "     \n",
       "q_1: \n",
       "     \n",
       "q_2: \n",
       "     \n",
       "c: 3/\n",
       "     "
      ]
     },
     "execution_count": 2,
     "metadata": {},
     "output_type": "execute_result"
    }
   ],
   "source": [
    "qc.draw()"
   ]
  },
  {
   "cell_type": "code",
   "execution_count": 3,
   "id": "09bc3966",
   "metadata": {},
   "outputs": [
    {
     "data": {
      "text/html": [
       "<pre style=\"word-wrap: normal;white-space: pre;background: #fff0;line-height: 1.1;font-family: &quot;Courier New&quot;,Courier,monospace\">          \n",
       "q_0: ─────\n",
       "          \n",
       "q_1: ─────\n",
       "     ┌───┐\n",
       "q_2: ┤ H ├\n",
       "     └───┘\n",
       "c: 3/═════\n",
       "          </pre>"
      ],
      "text/plain": [
       "          \n",
       "q_0: ─────\n",
       "          \n",
       "q_1: ─────\n",
       "     ┌───┐\n",
       "q_2: ┤ H ├\n",
       "     └───┘\n",
       "c: 3/═════\n",
       "          "
      ]
     },
     "execution_count": 3,
     "metadata": {},
     "output_type": "execute_result"
    }
   ],
   "source": [
    "#Entanglement\n",
    "qc.h(2)\n",
    "qc.draw()"
   ]
  },
  {
   "cell_type": "code",
   "execution_count": 4,
   "id": "cdbf7ef3",
   "metadata": {},
   "outputs": [
    {
     "data": {
      "text/html": [
       "<pre style=\"word-wrap: normal;white-space: pre;background: #fff0;line-height: 1.1;font-family: &quot;Courier New&quot;,Courier,monospace\">               \n",
       "q_0: ──────────\n",
       "          ┌───┐\n",
       "q_1: ─────┤ X ├\n",
       "     ┌───┐└─┬─┘\n",
       "q_2: ┤ H ├──■──\n",
       "     └───┘     \n",
       "c: 3/══════════\n",
       "               </pre>"
      ],
      "text/plain": [
       "               \n",
       "q_0: ──────────\n",
       "          ┌───┐\n",
       "q_1: ─────┤ X ├\n",
       "     ┌───┐└─┬─┘\n",
       "q_2: ┤ H ├──■──\n",
       "     └───┘     \n",
       "c: 3/══════════\n",
       "               "
      ]
     },
     "execution_count": 4,
     "metadata": {},
     "output_type": "execute_result"
    }
   ],
   "source": [
    "qc.cx(2,1)\n",
    "qc.draw()"
   ]
  },
  {
   "cell_type": "code",
   "execution_count": 5,
   "id": "204a56f8",
   "metadata": {},
   "outputs": [
    {
     "data": {
      "text/html": [
       "<pre style=\"word-wrap: normal;white-space: pre;background: #fff0;line-height: 1.1;font-family: &quot;Courier New&quot;,Courier,monospace\">                ░ \n",
       "q_0: ───────────░─\n",
       "          ┌───┐ ░ \n",
       "q_1: ─────┤ X ├─░─\n",
       "     ┌───┐└─┬─┘ ░ \n",
       "q_2: ┤ H ├──■───░─\n",
       "     └───┘      ░ \n",
       "c: 3/═════════════\n",
       "                  </pre>"
      ],
      "text/plain": [
       "                ░ \n",
       "q_0: ───────────░─\n",
       "          ┌───┐ ░ \n",
       "q_1: ─────┤ X ├─░─\n",
       "     ┌───┐└─┬─┘ ░ \n",
       "q_2: ┤ H ├──■───░─\n",
       "     └───┘      ░ \n",
       "c: 3/═════════════\n",
       "                  "
      ]
     },
     "execution_count": 5,
     "metadata": {},
     "output_type": "execute_result"
    }
   ],
   "source": [
    "qc.barrier()\n",
    "qc.draw()"
   ]
  },
  {
   "cell_type": "code",
   "execution_count": 6,
   "id": "af536c2a",
   "metadata": {},
   "outputs": [],
   "source": [
    "#Bell State Measurment"
   ]
  },
  {
   "cell_type": "code",
   "execution_count": 7,
   "id": "5cec2d0e",
   "metadata": {},
   "outputs": [
    {
     "data": {
      "text/html": [
       "<pre style=\"word-wrap: normal;white-space: pre;background: #fff0;line-height: 1.1;font-family: &quot;Courier New&quot;,Courier,monospace\">                ░      \n",
       "q_0: ───────────░───■──\n",
       "          ┌───┐ ░ ┌─┴─┐\n",
       "q_1: ─────┤ X ├─░─┤ X ├\n",
       "     ┌───┐└─┬─┘ ░ └───┘\n",
       "q_2: ┤ H ├──■───░──────\n",
       "     └───┘      ░      \n",
       "c: 3/══════════════════\n",
       "                       </pre>"
      ],
      "text/plain": [
       "                ░      \n",
       "q_0: ───────────░───■──\n",
       "          ┌───┐ ░ ┌─┴─┐\n",
       "q_1: ─────┤ X ├─░─┤ X ├\n",
       "     ┌───┐└─┬─┘ ░ └───┘\n",
       "q_2: ┤ H ├──■───░──────\n",
       "     └───┘      ░      \n",
       "c: 3/══════════════════\n",
       "                       "
      ]
     },
     "execution_count": 7,
     "metadata": {},
     "output_type": "execute_result"
    }
   ],
   "source": [
    "qc.cx(0,1)\n",
    "qc.draw()"
   ]
  },
  {
   "cell_type": "code",
   "execution_count": 8,
   "id": "1b0d93a1",
   "metadata": {},
   "outputs": [
    {
     "data": {
      "text/html": [
       "<pre style=\"word-wrap: normal;white-space: pre;background: #fff0;line-height: 1.1;font-family: &quot;Courier New&quot;,Courier,monospace\">                ░      ┌───┐ ░ \n",
       "q_0: ───────────░───■──┤ H ├─░─\n",
       "          ┌───┐ ░ ┌─┴─┐└───┘ ░ \n",
       "q_1: ─────┤ X ├─░─┤ X ├──────░─\n",
       "     ┌───┐└─┬─┘ ░ └───┘      ░ \n",
       "q_2: ┤ H ├──■───░────────────░─\n",
       "     └───┘      ░            ░ \n",
       "c: 3/══════════════════════════\n",
       "                               </pre>"
      ],
      "text/plain": [
       "                ░      ┌───┐ ░ \n",
       "q_0: ───────────░───■──┤ H ├─░─\n",
       "          ┌───┐ ░ ┌─┴─┐└───┘ ░ \n",
       "q_1: ─────┤ X ├─░─┤ X ├──────░─\n",
       "     ┌───┐└─┬─┘ ░ └───┘      ░ \n",
       "q_2: ┤ H ├──■───░────────────░─\n",
       "     └───┘      ░            ░ \n",
       "c: 3/══════════════════════════\n",
       "                               "
      ]
     },
     "execution_count": 8,
     "metadata": {},
     "output_type": "execute_result"
    }
   ],
   "source": [
    "qc.h(0)\n",
    "qc.barrier()\n",
    "qc.draw()"
   ]
  },
  {
   "cell_type": "code",
   "execution_count": 9,
   "id": "62e47a9a",
   "metadata": {},
   "outputs": [
    {
     "data": {
      "text/html": [
       "<pre style=\"word-wrap: normal;white-space: pre;background: #fff0;line-height: 1.1;font-family: &quot;Courier New&quot;,Courier,monospace\">                ░      ┌───┐ ░ ┌─┐    ░ \n",
       "q_0: ───────────░───■──┤ H ├─░─┤M├────░─\n",
       "          ┌───┐ ░ ┌─┴─┐└───┘ ░ └╥┘┌─┐ ░ \n",
       "q_1: ─────┤ X ├─░─┤ X ├──────░──╫─┤M├─░─\n",
       "     ┌───┐└─┬─┘ ░ └───┘      ░  ║ └╥┘ ░ \n",
       "q_2: ┤ H ├──■───░────────────░──╫──╫──░─\n",
       "     └───┘      ░            ░  ║  ║  ░ \n",
       "c: 3/═══════════════════════════╩══╩════\n",
       "                                1  0    </pre>"
      ],
      "text/plain": [
       "                ░      ┌───┐ ░ ┌─┐    ░ \n",
       "q_0: ───────────░───■──┤ H ├─░─┤M├────░─\n",
       "          ┌───┐ ░ ┌─┴─┐└───┘ ░ └╥┘┌─┐ ░ \n",
       "q_1: ─────┤ X ├─░─┤ X ├──────░──╫─┤M├─░─\n",
       "     ┌───┐└─┬─┘ ░ └───┘      ░  ║ └╥┘ ░ \n",
       "q_2: ┤ H ├──■───░────────────░──╫──╫──░─\n",
       "     └───┘      ░            ░  ║  ║  ░ \n",
       "c: 3/═══════════════════════════╩══╩════\n",
       "                                1  0    "
      ]
     },
     "execution_count": 9,
     "metadata": {},
     "output_type": "execute_result"
    }
   ],
   "source": [
    "qc.measure(0,1)\n",
    "qc.measure(1,0)\n",
    "qc.barrier()\n",
    "qc.draw()"
   ]
  },
  {
   "cell_type": "code",
   "execution_count": 10,
   "id": "5c15de2c",
   "metadata": {},
   "outputs": [
    {
     "data": {
      "text/html": [
       "<pre style=\"word-wrap: normal;white-space: pre;background: #fff0;line-height: 1.1;font-family: &quot;Courier New&quot;,Courier,monospace\">                ░      ┌───┐ ░ ┌─┐    ░                                      »\n",
       "q_0: ───────────░───■──┤ H ├─░─┤M├────░──────────────────────────────────────»\n",
       "          ┌───┐ ░ ┌─┴─┐└───┘ ░ └╥┘┌─┐ ░                                      »\n",
       "q_1: ─────┤ X ├─░─┤ X ├──────░──╫─┤M├─░──────────────────────────────────────»\n",
       "     ┌───┐└─┬─┘ ░ └───┘      ░  ║ └╥┘ ░   ┌──────  ┌───┐ ───────┐   ┌──────  »\n",
       "q_2: ┤ H ├──■───░────────────░──╫──╫──░───┤ If-0  ─┤ X ├  End-0 ├───┤ If-0  ─»\n",
       "     └───┘      ░            ░  ║  ║  ░   └──╥───  └───┘ ───────┘   └──╥───  »\n",
       "                                ║  ║    ┌────╨────┐               ┌────╨────┐»\n",
       "c: 3/═══════════════════════════╩══╩════╡ c_0=0x1 ╞═══════════════╡ c_1=0x1 ╞»\n",
       "                                1  0    └─────────┘               └─────────┘»\n",
       "«                    \n",
       "«q_0: ───────────────\n",
       "«                    \n",
       "«q_1: ───────────────\n",
       "«     ┌───┐ ───────┐ \n",
       "«q_2: ┤ Z ├  End-0 ├─\n",
       "«     └───┘ ───────┘ \n",
       "«c: 3/═══════════════\n",
       "«                    </pre>"
      ],
      "text/plain": [
       "                ░      ┌───┐ ░ ┌─┐    ░                                      »\n",
       "q_0: ───────────░───■──┤ H ├─░─┤M├────░──────────────────────────────────────»\n",
       "          ┌───┐ ░ ┌─┴─┐└───┘ ░ └╥┘┌─┐ ░                                      »\n",
       "q_1: ─────┤ X ├─░─┤ X ├──────░──╫─┤M├─░──────────────────────────────────────»\n",
       "     ┌───┐└─┬─┘ ░ └───┘      ░  ║ └╥┘ ░   ┌──────  ┌───┐ ───────┐   ┌──────  »\n",
       "q_2: ┤ H ├──■───░────────────░──╫──╫──░───┤ If-0  ─┤ X ├  End-0 ├───┤ If-0  ─»\n",
       "     └───┘      ░            ░  ║  ║  ░   └──╥───  └───┘ ───────┘   └──╥───  »\n",
       "                                ║  ║    ┌────╨────┐               ┌────╨────┐»\n",
       "c: 3/═══════════════════════════╩══╩════╡ c_0=0x1 ╞═══════════════╡ c_1=0x1 ╞»\n",
       "                                1  0    └─────────┘               └─────────┘»\n",
       "«                    \n",
       "«q_0: ───────────────\n",
       "«                    \n",
       "«q_1: ───────────────\n",
       "«     ┌───┐ ───────┐ \n",
       "«q_2: ┤ Z ├  End-0 ├─\n",
       "«     └───┘ ───────┘ \n",
       "«c: 3/═══════════════\n",
       "«                    "
      ]
     },
     "execution_count": 10,
     "metadata": {},
     "output_type": "execute_result"
    }
   ],
   "source": [
    "with qc.if_test((0, 1)):\n",
    "    qc.x(2)\n",
    "with qc.if_test((1, 1)):\n",
    "    qc.z(2)\n",
    "    \n",
    "qc.draw()"
   ]
  },
  {
   "cell_type": "code",
   "execution_count": 11,
   "id": "41703786",
   "metadata": {},
   "outputs": [
    {
     "data": {
      "text/html": [
       "<pre style=\"word-wrap: normal;white-space: pre;background: #fff0;line-height: 1.1;font-family: &quot;Courier New&quot;,Courier,monospace\">                ░      ┌───┐ ░ ┌─┐    ░                                      »\n",
       "q_0: ───────────░───■──┤ H ├─░─┤M├────░──────────────────────────────────────»\n",
       "          ┌───┐ ░ ┌─┴─┐└───┘ ░ └╥┘┌─┐ ░                                      »\n",
       "q_1: ─────┤ X ├─░─┤ X ├──────░──╫─┤M├─░──────────────────────────────────────»\n",
       "     ┌───┐└─┬─┘ ░ └───┘      ░  ║ └╥┘ ░   ┌──────  ┌───┐ ───────┐   ┌──────  »\n",
       "q_2: ┤ H ├──■───░────────────░──╫──╫──░───┤ If-0  ─┤ X ├  End-0 ├───┤ If-0  ─»\n",
       "     └───┘      ░            ░  ║  ║  ░   └──╥───  └───┘ ───────┘   └──╥───  »\n",
       "                                ║  ║    ┌────╨────┐               ┌────╨────┐»\n",
       "c: 3/═══════════════════════════╩══╩════╡ c_0=0x1 ╞═══════════════╡ c_1=0x1 ╞»\n",
       "                                1  0    └─────────┘               └─────────┘»\n",
       "«                     ░    \n",
       "«q_0: ────────────────░────\n",
       "«                     ░    \n",
       "«q_1: ────────────────░────\n",
       "«     ┌───┐ ───────┐  ░ ┌─┐\n",
       "«q_2: ┤ Z ├  End-0 ├──░─┤M├\n",
       "«     └───┘ ───────┘  ░ └╥┘\n",
       "«c: 3/═══════════════════╩═\n",
       "«                        2 </pre>"
      ],
      "text/plain": [
       "                ░      ┌───┐ ░ ┌─┐    ░                                      »\n",
       "q_0: ───────────░───■──┤ H ├─░─┤M├────░──────────────────────────────────────»\n",
       "          ┌───┐ ░ ┌─┴─┐└───┘ ░ └╥┘┌─┐ ░                                      »\n",
       "q_1: ─────┤ X ├─░─┤ X ├──────░──╫─┤M├─░──────────────────────────────────────»\n",
       "     ┌───┐└─┬─┘ ░ └───┘      ░  ║ └╥┘ ░   ┌──────  ┌───┐ ───────┐   ┌──────  »\n",
       "q_2: ┤ H ├──■───░────────────░──╫──╫──░───┤ If-0  ─┤ X ├  End-0 ├───┤ If-0  ─»\n",
       "     └───┘      ░            ░  ║  ║  ░   └──╥───  └───┘ ───────┘   └──╥───  »\n",
       "                                ║  ║    ┌────╨────┐               ┌────╨────┐»\n",
       "c: 3/═══════════════════════════╩══╩════╡ c_0=0x1 ╞═══════════════╡ c_1=0x1 ╞»\n",
       "                                1  0    └─────────┘               └─────────┘»\n",
       "«                     ░    \n",
       "«q_0: ────────────────░────\n",
       "«                     ░    \n",
       "«q_1: ────────────────░────\n",
       "«     ┌───┐ ───────┐  ░ ┌─┐\n",
       "«q_2: ┤ Z ├  End-0 ├──░─┤M├\n",
       "«     └───┘ ───────┘  ░ └╥┘\n",
       "«c: 3/═══════════════════╩═\n",
       "«                        2 "
      ]
     },
     "execution_count": 11,
     "metadata": {},
     "output_type": "execute_result"
    }
   ],
   "source": [
    "qc.barrier()\n",
    "qc.measure(2,2)\n",
    "qc.draw()"
   ]
  },
  {
   "cell_type": "markdown",
   "id": "733e8032",
   "metadata": {},
   "source": [
    "=> qc is the required circuit for Quantum Teleportation"
   ]
  },
  {
   "cell_type": "code",
   "execution_count": 12,
   "id": "b29ef0f4",
   "metadata": {},
   "outputs": [
    {
     "data": {
      "text/html": [
       "<pre style=\"word-wrap: normal;white-space: pre;background: #fff0;line-height: 1.1;font-family: &quot;Courier New&quot;,Courier,monospace\">     ┌─────────────────────┐ ░ \n",
       "q_0: ┤ Initialize(0.6,0.8) ├─░─\n",
       "     └─────────────────────┘ ░ \n",
       "q_1: ────────────────────────░─\n",
       "                             ░ \n",
       "q_2: ────────────────────────░─\n",
       "                             ░ \n",
       "c: 3/══════════════════════════\n",
       "                               </pre>"
      ],
      "text/plain": [
       "     ┌─────────────────────┐ ░ \n",
       "q_0: ┤ Initialize(0.6,0.8) ├─░─\n",
       "     └─────────────────────┘ ░ \n",
       "q_1: ────────────────────────░─\n",
       "                             ░ \n",
       "q_2: ────────────────────────░─\n",
       "                             ░ \n",
       "c: 3/══════════════════════════\n",
       "                               "
      ]
     },
     "execution_count": 12,
     "metadata": {},
     "output_type": "execute_result"
    }
   ],
   "source": [
    "#Creating the test circuit\n",
    "\n",
    "test = QuantumCircuit(3,3)\n",
    "\n",
    "state = [0.6,0.8]\n",
    "test.initialize(state, 0)\n",
    "test.barrier()\n",
    "test.draw()"
   ]
  },
  {
   "cell_type": "code",
   "execution_count": 13,
   "id": "8036332b",
   "metadata": {},
   "outputs": [
    {
     "data": {
      "text/html": [
       "<pre style=\"word-wrap: normal;white-space: pre;background: #fff0;line-height: 1.1;font-family: &quot;Courier New&quot;,Courier,monospace\">     ┌─────────────────────┐ ░            ░      ┌───┐ ░ ┌─┐    ░            »\n",
       "q_0: ┤ Initialize(0.6,0.8) ├─░────────────░───■──┤ H ├─░─┤M├────░────────────»\n",
       "     └─────────────────────┘ ░      ┌───┐ ░ ┌─┴─┐└───┘ ░ └╥┘┌─┐ ░            »\n",
       "q_1: ────────────────────────░──────┤ X ├─░─┤ X ├──────░──╫─┤M├─░────────────»\n",
       "                             ░ ┌───┐└─┬─┘ ░ └───┘      ░  ║ └╥┘ ░   ┌──────  »\n",
       "q_2: ────────────────────────░─┤ H ├──■───░────────────░──╫──╫──░───┤ If-0  ─»\n",
       "                             ░ └───┘      ░            ░  ║  ║  ░   └──╥───  »\n",
       "                                                          ║  ║    ┌────╨────┐»\n",
       "c: 3/═════════════════════════════════════════════════════╩══╩════╡ c_0=0x1 ╞»\n",
       "                                                          1  0    └─────────┘»\n",
       "«                                               ░    \n",
       "«q_0: ──────────────────────────────────────────░────\n",
       "«                                               ░    \n",
       "«q_1: ──────────────────────────────────────────░────\n",
       "«     ┌───┐ ───────┐   ┌──────  ┌───┐ ───────┐  ░ ┌─┐\n",
       "«q_2: ┤ X ├  End-0 ├───┤ If-0  ─┤ Z ├  End-0 ├──░─┤M├\n",
       "«     └───┘ ───────┘   └──╥───  └───┘ ───────┘  ░ └╥┘\n",
       "«                    ┌────╨────┐                   ║ \n",
       "«c: 3/═══════════════╡ c_1=0x1 ╞═══════════════════╩═\n",
       "«                    └─────────┘                   2 </pre>"
      ],
      "text/plain": [
       "     ┌─────────────────────┐ ░            ░      ┌───┐ ░ ┌─┐    ░            »\n",
       "q_0: ┤ Initialize(0.6,0.8) ├─░────────────░───■──┤ H ├─░─┤M├────░────────────»\n",
       "     └─────────────────────┘ ░      ┌───┐ ░ ┌─┴─┐└───┘ ░ └╥┘┌─┐ ░            »\n",
       "q_1: ────────────────────────░──────┤ X ├─░─┤ X ├──────░──╫─┤M├─░────────────»\n",
       "                             ░ ┌───┐└─┬─┘ ░ └───┘      ░  ║ └╥┘ ░   ┌──────  »\n",
       "q_2: ────────────────────────░─┤ H ├──■───░────────────░──╫──╫──░───┤ If-0  ─»\n",
       "                             ░ └───┘      ░            ░  ║  ║  ░   └──╥───  »\n",
       "                                                          ║  ║    ┌────╨────┐»\n",
       "c: 3/═════════════════════════════════════════════════════╩══╩════╡ c_0=0x1 ╞»\n",
       "                                                          1  0    └─────────┘»\n",
       "«                                               ░    \n",
       "«q_0: ──────────────────────────────────────────░────\n",
       "«                                               ░    \n",
       "«q_1: ──────────────────────────────────────────░────\n",
       "«     ┌───┐ ───────┐   ┌──────  ┌───┐ ───────┐  ░ ┌─┐\n",
       "«q_2: ┤ X ├  End-0 ├───┤ If-0  ─┤ Z ├  End-0 ├──░─┤M├\n",
       "«     └───┘ ───────┘   └──╥───  └───┘ ───────┘  ░ └╥┘\n",
       "«                    ┌────╨────┐                   ║ \n",
       "«c: 3/═══════════════╡ c_1=0x1 ╞═══════════════════╩═\n",
       "«                    └─────────┘                   2 "
      ]
     },
     "execution_count": 13,
     "metadata": {},
     "output_type": "execute_result"
    }
   ],
   "source": [
    "test = test.compose(qc)\n",
    "test.draw()"
   ]
  },
  {
   "cell_type": "code",
   "execution_count": 14,
   "id": "1517766a",
   "metadata": {},
   "outputs": [
    {
     "data": {
      "image/png": "[encoded data removed]",
      "text/plain": [
       "<Figure size 700x500 with 1 Axes>"
      ]
     },
     "metadata": {},
     "output_type": "display_data"
    }
   ],
   "source": [
    "#Simulating the circuit\n",
    "from qiskit_aer import AerSimulator\n",
    "from qiskit.visualization import plot_histogram\n",
    "\n",
    "simulator = AerSimulator()\n",
    "\n",
    "result = simulator.run(test, shots=8192).result()\n",
    "\n",
    "statistics = result.get_counts()\n",
    "\n",
    "display(plot_histogram(statistics))"
   ]
  },
  {
   "cell_type": "code",
   "execution_count": 15,
   "id": "559ba5f1",
   "metadata": {},
   "outputs": [
    {
     "name": "stderr",
     "output_type": "stream",
     "text": [
      "C:\\Users\\asus\\AppData\\Local\\Temp\\ipykernel_24620\\3993502667.py:7: DeprecationWarning: Using plot_histogram() ``data`` argument with QuasiDistribution, ProbDistribution, or a distribution dictionary is deprecated as of qiskit-terra 0.22.0. It will be removed no earlier than 3 months after the release date. Instead, use ``plot_distribution()``.\n",
      "  display(plot_histogram(probabilities, title=\"Probabilities\"))\n"
     ]
    },
    {
     "data": {
      "image/png": "[encoded data removed]",
      "text/plain": [
       "<Figure size 700x500 with 1 Axes>"
      ]
     },
     "metadata": {},
     "output_type": "display_data"
    }
   ],
   "source": [
    "from qiskit.result import marginal_distribution\n",
    "filtered_statistics = marginal_distribution(statistics, [2])\n",
    "\n",
    "total_shots = 8192  \n",
    "probabilities = {key: value / total_shots for key, value in filtered_statistics.items()}\n",
    "\n",
    "display(plot_histogram(probabilities, title=\"Probabilities\"))"
   ]
  },
  {
   "cell_type": "code",
   "execution_count": 19,
   "id": "9880ff44",
   "metadata": {},
   "outputs": [
    {
     "data": {
      "image/png": "[encoded data removed]",
      "text/plain": [
       "<Figure size 700x500 with 1 Axes>"
      ]
     },
     "metadata": {},
     "output_type": "display_data"
    }
   ],
   "source": [
    "from qiskit import IBMQ, transpile, assemble\n",
    "from qiskit_ibm_provider import IBMProvider\n",
    "from qiskit.visualization import plot_histogram\n",
    "from qiskit.tools.monitor import job_monitor\n",
    "\n",
    "IBMProvider.save_account(token='0e3c9b17c6c49a7afd406b4d5f33f73638940406bcf57536b6b78ca8ecad980faa4e89e0695198a32604e669bfdcdb0695c66a7259a100e6df6f835f3a264dfb', overwrite=True)\n",
    "provider = IBMProvider()\n",
    "\n",
    "backend = provider.get_backend(\"ibm_brisbane\")  # Use a simulator backend, or specify another simulator\n",
    "\n",
    "# Transpile the circuit for the chosen backend\n",
    "test_transpiled = transpile(test, backend = backend)\n",
    "\n",
    "job = backend.run(test_transpiled)\n",
    "\n",
    "# Get the result\n",
    "result = job.result()\n",
    "\n",
    "# Get the counts (or other desired information)\n",
    "statistics = result.get_counts()\n",
    "\n",
    "# Plot the histogram\n",
    "display(plot_histogram(statistics))\n"
   ]
  },
  {
   "cell_type": "code",
   "execution_count": 20,
   "id": "36ba3c80",
   "metadata": {},
   "outputs": [
    {
     "name": "stderr",
     "output_type": "stream",
     "text": [
      "C:\\Users\\asus\\AppData\\Local\\Temp\\ipykernel_24620\\2756014227.py:6: DeprecationWarning: Using plot_histogram() ``data`` argument with QuasiDistribution, ProbDistribution, or a distribution dictionary is deprecated as of qiskit-terra 0.22.0. It will be removed no earlier than 3 months after the release date. Instead, use ``plot_distribution()``.\n",
      "  display(plot_histogram(probabilities, title=\"Probabilities\"))\n"
     ]
    },
    {
     "data": {
      "image/png": "[encoded data removed]",
      "text/plain": [
       "<Figure size 700x500 with 1 Axes>"
      ]
     },
     "metadata": {},
     "output_type": "display_data"
    }
   ],
   "source": [
    "filtered_statistics = marginal_distribution(statistics, [2])\n",
    "\n",
    "total_shots = 4000 \n",
    "probabilities = {key: value / total_shots for key, value in filtered_statistics.items()}\n",
    "\n",
    "display(plot_histogram(probabilities, title=\"Probabilities\"))"
   ]
  },
  {
   "cell_type": "markdown",
   "id": "5ff51c6f",
   "metadata": {},
   "source": [
    "The discrepancies in the probabilities of the third classical bit (the measurement of the teleported qubit) between the **AerSimulator** and the IBMQ simulation are primarily due to the differences in the environment (Loss of Quantum Information ue to interaction with environment for the IBMQ) where the circuit was executed. \n",
    "\n",
    "---\n",
    "\n",
    "### Results Recap\n",
    "\n",
    "- **AerSimulator (Ideal Simulation)**:\n",
    "  - Probabilities: \\( P(0) = 0.361 \\), \\( P(1) = 0.639 \\)\n",
    "  - Matches the theoretical values \\( 0.6^2 = 0.36 \\) and \\( 0.8^2 = 0.64 \\).\n",
    "\n",
    "- **IBMQ Simulation (Real Hardware)**:\n",
    "  - Probabilities: \\( P(0) = 0.408 \\), \\( P(1) = 0.592 \\)\n",
    "  - Deviation from the ideal results, with a bias toward \\( P(1) = 0.6 \\).\n",
    "\n",
    "---\n",
    "\n",
    "\n"
   ]
  },
  {
   "cell_type": "code",
   "execution_count": null,
   "id": "72fce290",
   "metadata": {},
   "outputs": [],
   "source": []
  }
 ],
 "metadata": {
  "kernelspec": {
   "display_name": "Python 3 (ipykernel)",
   "language": "python",
   "name": "python3"
  },
  "language_info": {
   "codemirror_mode": {
    "name": "ipython",
    "version": 3
   },
   "file_extension": ".py",
   "mimetype": "text/x-python",
   "name": "python",
   "nbconvert_exporter": "python",
   "pygments_lexer": "ipython3",
   "version": "3.11.5"
  }
 },
 "nbformat": 4,
 "nbformat_minor": 5
}
